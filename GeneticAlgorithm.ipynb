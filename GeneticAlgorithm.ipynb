{
 "cells": [
  {
   "cell_type": "markdown",
   "metadata": {},
   "source": [
    "##                                                      Code by Noureddine"
   ]
  },
  {
   "cell_type": "code",
   "execution_count": 5,
   "metadata": {},
   "outputs": [],
   "source": [
    "import random\n",
    "\n",
    "# Define the fitness function\n",
    "def fitness_function(chromosome):\n",
    "    # Return the sum of the values in the chromosome\n",
    "    return sum(chromosome)\n",
    "\n",
    "# Define the mutation function\n",
    "def mutation(chromosome, mutation_rate):\n",
    "    # For each gene in the chromosome, possibly mutate it\n",
    "    for i in range(len(chromosome)):\n",
    "        if random.random() < mutation_rate:\n",
    "            chromosome[i] = 1 - chromosome[i]\n",
    "    return chromosome"
   ]
  },
  {
   "cell_type": "code",
   "execution_count": 6,
   "metadata": {},
   "outputs": [],
   "source": [
    "# Define the crossover function\n",
    "def crossover(parent1, parent2):\n",
    "    # Choose a random crossover point\n",
    "    crossover_point = random.randint(0, len(parent1) - 1)\n",
    "    # Create the child chromosome\n",
    "    child = parent1[:crossover_point] + parent2[crossover_point:]\n",
    "    return child"
   ]
  },
  {
   "cell_type": "code",
   "execution_count": 7,
   "metadata": {},
   "outputs": [
    {
     "name": "stdout",
     "output_type": "stream",
     "text": [
      "Generation: 0\n",
      "Fittest chromosome: [1, 1, 1, 1, 0, 1, 1, 1, 1, 1]\n",
      "Fitness score: 9\n",
      "Generation: 1\n",
      "Fittest chromosome: [1, 1, 1, 1, 0, 1, 1, 1, 1, 1]\n",
      "Fitness score: 9\n",
      "Generation: 2\n",
      "Fittest chromosome: [1, 1, 1, 1, 0, 1, 1, 1, 1, 1]\n",
      "Fitness score: 9\n",
      "Generation: 3\n",
      "Fittest chromosome: [1, 1, 1, 1, 0, 1, 1, 1, 1, 1]\n",
      "Fitness score: 9\n",
      "Generation: 4\n",
      "Fittest chromosome: [1, 1, 1, 1, 0, 1, 1, 1, 1, 1]\n",
      "Fitness score: 9\n",
      "Generation: 5\n",
      "Fittest chromosome: [1, 1, 1, 1, 0, 1, 1, 1, 1, 1]\n",
      "Fitness score: 9\n",
      "Generation: 6\n",
      "Fittest chromosome: [1, 1, 1, 1, 0, 1, 1, 1, 1, 1]\n",
      "Fitness score: 9\n",
      "Generation: 7\n",
      "Fittest chromosome: [1, 1, 1, 1, 0, 1, 1, 1, 1, 1]\n",
      "Fitness score: 9\n",
      "Generation: 8\n",
      "Fittest chromosome: [1, 1, 1, 1, 1, 1, 1, 1, 1, 1]\n",
      "Fitness score: 10\n",
      "Generation: 9\n",
      "Fittest chromosome: [1, 1, 1, 1, 1, 1, 1, 1, 1, 1]\n",
      "Fitness score: 10\n"
     ]
    }
   ],
   "source": [
    "# Define the genetic algorithm function\n",
    "def genetic_algorithm(population_size, chromosome_length, mutation_rate, generations):\n",
    "    # Create the initial population\n",
    "    population = [[random.randint(0, 1) for i in range(chromosome_length)] for j in range(population_size)]\n",
    "\n",
    "    # Iterate through each generation\n",
    "    for generation in range(generations):\n",
    "        # Evaluate the fitness of each chromosome in the population\n",
    "        fitness_scores = [fitness_function(chromosome) for chromosome in population]\n",
    "\n",
    "        # Find the index of the fittest chromosome\n",
    "        fittest_index = fitness_scores.index(max(fitness_scores))\n",
    "\n",
    "        # Print the fittest chromosome and its fitness score\n",
    "        print(\"Generation:\", generation)\n",
    "        print(\"Fittest chromosome:\", population[fittest_index])\n",
    "        print(\"Fitness score:\", fitness_scores[fittest_index])\n",
    "\n",
    "        # Create a new population for the next generation\n",
    "        new_population = []\n",
    "\n",
    "        # Add the fittest chromosome to the new population\n",
    "        new_population.append(population[fittest_index])\n",
    "\n",
    "        # Create the rest of the new population through crossover and mutation\n",
    "        for i in range(population_size - 1):\n",
    "            parent1 = random.choice(population)\n",
    "            parent2 = random.choice(population)\n",
    "            child = crossover(parent1, parent2)\n",
    "            child = mutation(child, mutation_rate)\n",
    "            new_population.append(child)\n",
    "\n",
    "        # Set the current population to the new population\n",
    "        population = new_population\n",
    " # Run the genetic algorithm\n",
    "genetic_algorithm(population_size=100, chromosome_length=10, mutation_rate=0.1, generations=10)       "
   ]
  }
 ],
 "metadata": {
  "interpreter": {
   "hash": "d317d5fbb75a366c63d5484057f1ebceb1b051b11da56980904119fee3c29e75"
  },
  "kernelspec": {
   "display_name": "Python 3.8.5 64-bit",
   "language": "python",
   "name": "python3"
  },
  "language_info": {
   "codemirror_mode": {
    "name": "ipython",
    "version": 3
   },
   "file_extension": ".py",
   "mimetype": "text/x-python",
   "name": "python",
   "nbconvert_exporter": "python",
   "pygments_lexer": "ipython3",
   "version": "3.8.5"
  },
  "orig_nbformat": 4
 },
 "nbformat": 4,
 "nbformat_minor": 2
}
